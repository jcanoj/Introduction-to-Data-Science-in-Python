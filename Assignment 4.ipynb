{
 "cells": [
  {
   "cell_type": "markdown",
   "metadata": {},
   "source": [
    "---\n",
    "\n",
    "_You are currently looking at **version 1.1** of this notebook. To download notebooks and datafiles, as well as get help on Jupyter notebooks in the Coursera platform, visit the [Jupyter Notebook FAQ](https://www.coursera.org/learn/python-data-analysis/resources/0dhYG) course resource._\n",
    "\n",
    "---"
   ]
  },
  {
   "cell_type": "code",
   "execution_count": 1,
   "metadata": {
    "collapsed": true
   },
   "outputs": [],
   "source": [
    "import pandas as pd\n",
    "import numpy as np\n",
    "from scipy.stats import ttest_ind"
   ]
  },
  {
   "cell_type": "markdown",
   "metadata": {},
   "source": [
    "# Assignment 4 - Hypothesis Testing\n",
    "This assignment requires more individual learning than previous assignments - you are encouraged to check out the [pandas documentation](http://pandas.pydata.org/pandas-docs/stable/) to find functions or methods you might not have used yet, or ask questions on [Stack Overflow](http://stackoverflow.com/) and tag them as pandas and python related. And of course, the discussion forums are open for interaction with your peers and the course staff.\n",
    "\n",
    "Definitions:\n",
    "* A _quarter_ is a specific three month period, Q1 is January through March, Q2 is April through June, Q3 is July through September, Q4 is October through December.\n",
    "* A _recession_ is defined as starting with two consecutive quarters of GDP decline, and ending with two consecutive quarters of GDP growth.\n",
    "* A _recession bottom_ is the quarter within a recession which had the lowest GDP.\n",
    "* A _university town_ is a city which has a high percentage of university students compared to the total population of the city.\n",
    "\n",
    "**Hypothesis**: University towns have their mean housing prices less effected by recessions. Run a t-test to compare the ratio of the mean price of houses in university towns the quarter before the recession starts compared to the recession bottom. (`price_ratio=quarter_before_recession/recession_bottom`)\n",
    "\n",
    "The following data files are available for this assignment:\n",
    "* From the [Zillow research data site](http://www.zillow.com/research/data/) there is housing data for the United States. In particular the datafile for [all homes at a city level](http://files.zillowstatic.com/research/public/City/City_Zhvi_AllHomes.csv), ```City_Zhvi_AllHomes.csv```, has median home sale prices at a fine grained level.\n",
    "* From the Wikipedia page on college towns is a list of [university towns in the United States](https://en.wikipedia.org/wiki/List_of_college_towns#College_towns_in_the_United_States) which has been copy and pasted into the file ```university_towns.txt```.\n",
    "* From Bureau of Economic Analysis, US Department of Commerce, the [GDP over time](http://www.bea.gov/national/index.htm#gdp) of the United States in current dollars (use the chained value in 2009 dollars), in quarterly intervals, in the file ```gdplev.xls```. For this assignment, only look at GDP data from the first quarter of 2000 onward.\n",
    "\n",
    "Each function in this assignment below is worth 10%, with the exception of ```run_ttest()```, which is worth 50%."
   ]
  },
  {
   "cell_type": "code",
   "execution_count": 2,
   "metadata": {
    "collapsed": true
   },
   "outputs": [],
   "source": [
    "# Use this dictionary to map state names to two letter acronyms\n",
    "states = {'OH': 'Ohio', 'KY': 'Kentucky', 'AS': 'American Samoa', 'NV': 'Nevada', 'WY': 'Wyoming', 'NA': 'National', 'AL': 'Alabama', 'MD': 'Maryland', 'AK': 'Alaska', 'UT': 'Utah', 'OR': 'Oregon', 'MT': 'Montana', 'IL': 'Illinois', 'TN': 'Tennessee', 'DC': 'District of Columbia', 'VT': 'Vermont', 'ID': 'Idaho', 'AR': 'Arkansas', 'ME': 'Maine', 'WA': 'Washington', 'HI': 'Hawaii', 'WI': 'Wisconsin', 'MI': 'Michigan', 'IN': 'Indiana', 'NJ': 'New Jersey', 'AZ': 'Arizona', 'GU': 'Guam', 'MS': 'Mississippi', 'PR': 'Puerto Rico', 'NC': 'North Carolina', 'TX': 'Texas', 'SD': 'South Dakota', 'MP': 'Northern Mariana Islands', 'IA': 'Iowa', 'MO': 'Missouri', 'CT': 'Connecticut', 'WV': 'West Virginia', 'SC': 'South Carolina', 'LA': 'Louisiana', 'KS': 'Kansas', 'NY': 'New York', 'NE': 'Nebraska', 'OK': 'Oklahoma', 'FL': 'Florida', 'CA': 'California', 'CO': 'Colorado', 'PA': 'Pennsylvania', 'DE': 'Delaware', 'NM': 'New Mexico', 'RI': 'Rhode Island', 'MN': 'Minnesota', 'VI': 'Virgin Islands', 'NH': 'New Hampshire', 'MA': 'Massachusetts', 'GA': 'Georgia', 'ND': 'North Dakota', 'VA': 'Virginia'}"
   ]
  },
  {
   "cell_type": "code",
   "execution_count": 12,
   "metadata": {},
   "outputs": [],
   "source": [
    "def get_list_of_university_towns():\n",
    "    '''Returns a DataFrame of towns and the states they are in from the \n",
    "    university_towns.txt list. The format of the DataFrame should be:\n",
    "    DataFrame( [ [\"Michigan\", \"Ann Arbor\"], [\"Michigan\", \"Yipsilanti\"] ], \n",
    "    columns=[\"State\", \"RegionName\"]  )\n",
    "    \n",
    "        State    Region Name\n",
    "    0  Alabama      Auburn\n",
    "    1  Alabama      Florence\n",
    "    2  Alabama      Jacksonville\n",
    "    \n",
    "    etc.\n",
    "    \n",
    "    The following cleaning needs to be done:\n",
    "\n",
    "    1. For \"State\", removing characters from \"[\" to the end.\n",
    "    2. For \"RegionName\", when applicable, removing every character from \" (\" to the end.\n",
    "    3. Depending on how you read the data, you may need to remove newline character '\\n'. '''\n",
    "    \n",
    "    data = []\n",
    "    \n",
    "    with open('university_towns.txt') as f:\n",
    "        content = f.readlines()\n",
    "        \n",
    "    content = [x.strip() for x in content]\n",
    "   \n",
    "    for line in content:\n",
    "        if \"[edit]\" in line:\n",
    "            position = line.index('[edit]')\n",
    "            state = line[:position]\n",
    "        else:\n",
    "            try:\n",
    "                position = line.index('(')\n",
    "                region = line[:position].strip()\n",
    "            except:\n",
    "                region = line\n",
    "                \n",
    "            data.append([state,region])\n",
    "        \n",
    "    unt_df = pd.DataFrame(data, columns = ['State', 'RegionName'])\n",
    "    \n",
    "    return unt_df"
   ]
  },
  {
   "cell_type": "code",
   "execution_count": 39,
   "metadata": {},
   "outputs": [
    {
     "data": {
      "text/plain": [
       "'2008q3'"
      ]
     },
     "execution_count": 39,
     "metadata": {},
     "output_type": "execute_result"
    }
   ],
   "source": [
    "def load_gdp_file():\n",
    "    \"\"\" Load GDP file and returns a dataframe with records since 2000q1\n",
    "    \"\"\"\n",
    "    \n",
    "    \n",
    "    # columns A:C contain the annual data\n",
    "    # TO-DO: year is loaded as a float not as an int; look for dtype in the documentation\n",
    "    # and https://trendct.org/2016/08/05/real-world-data-cleanup-with-python-and-pandas/\n",
    "    \n",
    "    # gdp_y = pd.read_excel('gdplev.xls',sheetname=0,skiprows=7, \n",
    "    #                         parse_cols=\"A:C\", index_col=0,\n",
    "    #                         names=['year','GDP','GDP 2009'])\n",
    "    \n",
    "    # columns E:G contain the quaterly seasonally adjusted annual data\n",
    "    # GDP column = GDP in billions of current dollars\n",
    "    # GDP 2009 = GDP in billions of chained 2009 dollars\n",
    "    gdp_qdf = pd.read_excel('gdplev.xls',sheetname=0, \n",
    "                             skiprows=7, parse_cols=\"E:G\", \n",
    "                             index_col=0, names=['GDP','GDP 2009'])\n",
    "    \n",
    "    # strip to data from first quarter of 2001 onwards\n",
    "    gdp_qdf = gdp_qdf['2000q1':]\n",
    "    gdp_qdf ['diff'] = gdp_qdf['GDP 2009'].diff()\n",
    "    \n",
    "    return gdp_qdf\n",
    "    \n",
    "\n",
    "\n",
    "def find_recession(pd_series):\n",
    "    '''Check if there is a recession and returns the recession start and the recession end\n",
    "       \n",
    "       Definition: A recession start is defined as the beginning of a two quarter period \n",
    "       in which both quarters have GDP decline. The start of recession is the first quarter \n",
    "       of at least 2 quarters of GDP decline\n",
    "       \n",
    "       This function converts the series 'pd_series' in a boolean list, \n",
    "       where 0 is a decrease in GDP and 1 means a increase in GDP\n",
    "       the recession will be a string equal to 00...11'''\n",
    "    \n",
    "    recession_found, start_year = False, -1\n",
    "    recession_string = '0011'\n",
    "    \n",
    "    series_copy = pd_series.copy()\n",
    "    pd_series = pd_series.apply(lambda x: 0 if x<0 else 1)\n",
    "    series_list = pd_series.tolist()\n",
    "    series_string = ''.join(map(str, series_list))\n",
    "    \n",
    "    position = series_string.index(recession_string)\n",
    "    \n",
    "    # recession starts the following year to the last GDP increase\n",
    "    recession_position = series_string[:position].rindex('1') + 1\n",
    "    recession_start = pd_series.index[recession_position]\n",
    "    \n",
    "    # recession end is recession positon + len(recession_string) + two consecutives quarters.\n",
    "    # the lenght of the reccesion_string, that is 4, hence we have to add 6\n",
    "    recession_end = pd_series.index[recession_position + 5]\n",
    "    \n",
    "        \n",
    "    return recession_start, recession_end\n",
    "\n",
    "\n",
    "def get_recession_start():\n",
    "    '''Returns the year and quarter of the recession start time as a \n",
    "    string value in a format such as 2005q3'''\n",
    "    \n",
    "    gdp_qdf = load_gdp_file()\n",
    "    \n",
    "    # use function find_recession to find the year\n",
    "    recession_start, recession_end = find_recession(gdp_qdf['diff'])\n",
    "    return recession_start\n",
    "\n",
    "get_recession_start()"
   ]
  },
  {
   "cell_type": "code",
   "execution_count": 40,
   "metadata": {},
   "outputs": [
    {
     "data": {
      "text/plain": [
       "'2009q4'"
      ]
     },
     "execution_count": 40,
     "metadata": {},
     "output_type": "execute_result"
    }
   ],
   "source": [
    "def get_recession_end():\n",
    "    '''Returns the year and quarter of the recession end time as a \n",
    "    string value in a format such as 2005q3'''\n",
    "    gdp_qdf = load_gdp_file()\n",
    "    recession_start, recession_end = find_recession(gdp_qdf['diff'])\n",
    "    return recession_end\n",
    "\n",
    "get_recession_end()"
   ]
  },
  {
   "cell_type": "code",
   "execution_count": 7,
   "metadata": {},
   "outputs": [
    {
     "data": {
      "text/plain": [
       "'2009q2'"
      ]
     },
     "execution_count": 7,
     "metadata": {},
     "output_type": "execute_result"
    }
   ],
   "source": [
    "def find_recession_bottom(pd_series):\n",
    "    \n",
    "    '''Check if there is a recession and returns the recession start and the recession end\n",
    "       \n",
    "       Definition: A recession start is defined as the beginning of a two quarter period \n",
    "       in which both quarters have GDP decline. The start of recession is the first quarter \n",
    "       of at least 2 quarters of GDP decline\n",
    "       \n",
    "       This function converts the series 'pd_series' in a boolean list, \n",
    "       where 0 is a decrease in GDP and 1 means a increase in GDP\n",
    "       the recession will be a string equal to 00...11'''\n",
    "    \n",
    "    recession_found, start_year = False, -1\n",
    "    recession_string = '0011'\n",
    "    \n",
    "    pd_series = pd_series.apply(lambda x: 0 if x<0 else 1)\n",
    "    series_list = pd_series.tolist()\n",
    "    series_string = ''.join(map(str, series_list))\n",
    "    \n",
    "    position = series_string.index(recession_string)\n",
    "    recession_bottom = pd_series.index[position + 1]\n",
    "        \n",
    "    return recession_bottom\n",
    "\n",
    "\n",
    "def get_recession_bottom():\n",
    "    '''Returns the year and quarter of the recession bottom time as a \n",
    "    string value in a format such as 2005q3'''\n",
    "    gdp_qdf = load_gdp_file()\n",
    "    recession_bottom = find_recession_bottom(gdp_qdf['diff'])\n",
    "    \n",
    "    return recession_bottom\n",
    "\n",
    "get_recession_bottom()"
   ]
  },
  {
   "cell_type": "code",
   "execution_count": 8,
   "metadata": {
    "collapsed": true
   },
   "outputs": [],
   "source": [
    "def convert_housing_data_to_quarters():\n",
    "    '''Converts the housing data to quarters and returns it as mean \n",
    "    values in a dataframe. This dataframe should be a dataframe with\n",
    "    columns for 2000q1 through 2016q3, and should have a multi-index\n",
    "    in the shape of [\"State\",\"RegionName\"].\n",
    "    \n",
    "    Note: Quarters are defined in the assignment description, they are\n",
    "    not arbitrary three month periods.\n",
    "    \n",
    "    The resulting dataframe should have 67 columns, and 10,730 rows.\n",
    "    \n",
    "    Need help?\n",
    "    https://stackoverflow.com/questions/41661451/pandas-compute-the-half-yearly-average-of-monthly-collected-house-sales\n",
    "    https://www.coursera.org/learn/python-data-analysis/discussions/weeks/4/threads/CSgStATMEee9mg5CyCleJA\n",
    "    \n",
    "    '''\n",
    "    \n",
    "    \n",
    "    df = pd.read_csv('City_Zhvi_AllHomes.csv', index_col=0, skiprows=0)\n",
    "    \n",
    "    #slice columns with loc\n",
    "    time_cols_df = df.loc[:,'2000-01':'2016-08']\n",
    "    \n",
    "    # change columns names type to datetime\n",
    "    time_cols_df = time_cols_df.rename(columns=pd.to_datetime)\n",
    "    \n",
    "    # perform a resample ('Q' = quarter) and calculate the mean\n",
    "    mean_df = time_cols_df.resample('Q', axis=1).mean()\n",
    "    \n",
    "    # change the column names back to string\n",
    "    mean_df = mean_df.rename(columns = lambda x: '{:}q{:}'.format(x.year, x.quarter))\n",
    "    \n",
    "    # add States and Regions to the Dataframe and replace States codes with its names\n",
    "    mean_df['RegionName'] = df['RegionName']\n",
    "    mean_df['State'] = df['State'].replace(states)\n",
    "    \n",
    "    \n",
    "    # set the index to ['State','RegionName']\n",
    "    mean_df = mean_df.set_index(['State','RegionName'])\n",
    "    \n",
    "    return mean_df"
   ]
  },
  {
   "cell_type": "code",
   "execution_count": 32,
   "metadata": {},
   "outputs": [
    {
     "data": {
      "text/plain": [
       "(True, 0.0051648663279195324, 'university town')"
      ]
     },
     "execution_count": 32,
     "metadata": {},
     "output_type": "execute_result"
    }
   ],
   "source": [
    "def run_ttest():\n",
    "    '''First creates new data showing the decline or growth of housing prices\n",
    "    between the recession start and the recession bottom. Then runs a ttest\n",
    "    comparing the university town values to the non-university towns values, \n",
    "    return whether the alternative hypothesis (that the two groups are the same)\n",
    "    is true or not as well as the p-value of the confidence. \n",
    "    \n",
    "    Return the tuple (different, p, better) where different=True if the t-test is\n",
    "    True at a p<0.01 (we reject the null hypothesis), or different=False if \n",
    "    otherwise (we cannot reject the null hypothesis). The variable p should\n",
    "    be equal to the exact p value returned from scipy.stats.ttest_ind(). The\n",
    "    value for better should be either \"university town\" or \"non-university town\"\n",
    "    depending on which has a lower mean price ratio (which is equivalent to a\n",
    "    reduced market loss).\n",
    "    \n",
    "    help?\n",
    "    https://www.coursera.org/learn/python-data-analysis/discussions/weeks/4/threads/iCSsLhrvEee0thK6z3XwTA\n",
    "    https://www.coursera.org/learn/python-data-analysis/discussions/weeks/4/threads/pY_v4ryDEeaN_w7XVB3P7A\n",
    "    https://www.coursera.org/learn/python-data-analysis/discussions/weeks/4/threads/1Fkg-ryCEeaIRw7T1E5tHA\n",
    "    \n",
    "    '''\n",
    "    \n",
    "    hdf =convert_housing_data_to_quarters()\n",
    "    rec_start=get_recession_start()\n",
    "    rec_bottom = get_recession_bottom()\n",
    "    ul = get_list_of_university_towns()\n",
    "    \n",
    "    # Price ratio = Quarter before Recession Start / Recession Bottom Quarter\n",
    "    # ojo esto está mal! Es el período anterior a rec_start\n",
    "    # 2008q3 --> 2008q2!!!\n",
    "    qtr_bfr_rec_start = str(pd.Period(rec_start,'Q')-1).lower()\n",
    "    hdf['PriceRatio'] = hdf[qtr_bfr_rec_start].div(hdf[rec_bottom])\n",
    "    \n",
    "    # to test the hypothesis (University towns have their mean housing prices\n",
    "    # split hdf in two sets: university towns data and the rest\n",
    "    # since ul has a list of university town, we can use it\n",
    "    # converting ul to a list of tuples [(State1, RegionName1), etc]\n",
    "    ul_list = [(state, region) for state,region in ul.itertuples(index=False)]\n",
    "    university_towns = hdf.loc[ul_list].dropna()\n",
    "    non_university_towns = hdf.loc[~hdf.index.isin(ul_list)].dropna()\n",
    "\n",
    "    \n",
    "    # run ttest on the price ration column to test the hypothesis is null (invalid)\n",
    "    # the result of ttest pvalue determines if the null hypothesis is true or not\n",
    "    # \n",
    "    # \"null hypothesis\" is a general statement or default position\n",
    "    # that there is a relationship between two measured phenomena\n",
    "    #\n",
    "    different, pvalue = ttest_ind(university_towns['PriceRatio'], non_university_towns['PriceRatio'])\n",
    "    \n",
    "    # if pvalue<0.01, we reject the null hypothesis \n",
    "    # and hence it's possible that there is a relation ship between \n",
    "    # {housing prices being affected by recession} and {being located in a university town or not}\n",
    "    \n",
    "    # if pvalue>0.01 we cannot reject the null hypothesis\n",
    "    # and hence there is no relationship between them\n",
    "    # \n",
    "    different = pvalue < 0.01\n",
    "    utm = university_towns['PriceRatio'].mean()\n",
    "    nutm = non_university_towns['PriceRatio'].mean()\n",
    "    better = 'university town' if utm < nutm else 'non-university-town'\n",
    "    \n",
    "    return (different, pvalue, better)\n",
    "\n",
    "\n",
    "run_ttest()"
   ]
  },
  {
   "cell_type": "code",
   "execution_count": null,
   "metadata": {
    "collapsed": true
   },
   "outputs": [],
   "source": []
  }
 ],
 "metadata": {
  "coursera": {
   "course_slug": "python-data-analysis",
   "graded_item_id": "Il9Fx",
   "launcher_item_id": "TeDW0",
   "part_id": "WGlun"
  },
  "kernelspec": {
   "display_name": "Python 3",
   "language": "python",
   "name": "python3"
  },
  "language_info": {
   "codemirror_mode": {
    "name": "ipython",
    "version": 3
   },
   "file_extension": ".py",
   "mimetype": "text/x-python",
   "name": "python",
   "nbconvert_exporter": "python",
   "pygments_lexer": "ipython3",
   "version": "3.6.1"
  }
 },
 "nbformat": 4,
 "nbformat_minor": 1
}
